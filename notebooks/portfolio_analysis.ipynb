{
 "cells": [
  {
   "cell_type": "code",
   "execution_count": 2,
   "metadata": {},
   "outputs": [],
   "source": [
    "import numpy as np\n",
    "import pandas as pd\n",
    "import quantstats as qs\n",
    "from pathlib import Path\n",
    "from tqdm import tqdm\n",
    "import matplotlib.pyplot as plt\n",
    "\n",
    "from pypfopt.risk_models import sample_cov\n",
    "from pypfopt.expected_returns import mean_historical_return\n",
    "\n",
    "from robustcov.utils import init_mu_cov\n",
    "from robustcov.runner import PortfolioCreater\n",
    "from robustcov.optimizers import ConvexOptimizer\n",
    "from robustcov.optimizers import NCOOptimizer\n",
    "\n",
    "\n",
    "qs.extend_pandas()"
   ]
  },
  {
   "cell_type": "code",
   "execution_count": 3,
   "metadata": {},
   "outputs": [],
   "source": [
    "df = pd.read_csv(Path('..') / 'data' / 'indices.csv')\n",
    "df['Date'] = pd.to_datetime(df['Date'], format='%Y-%m-%d')\n",
    "df = df.set_index('Date')\n",
    "\n",
    "\n",
    "# convert price history to expected returns and covariance matrix\n",
    "mu = mean_historical_return(df).values\n",
    "cov = sample_cov(df).values\n"
   ]
  },
  {
   "cell_type": "markdown",
   "metadata": {},
   "source": [
    "### Country clustering"
   ]
  },
  {
   "cell_type": "code",
   "execution_count": 4,
   "metadata": {},
   "outputs": [],
   "source": [
    "names = df.columns.tolist() \n",
    "countries = np.array([i.split(':')[0] for i in names])\n",
    "unique_countries, counts = np.unique(countries, return_counts=True)\n",
    "\n",
    "df['sample'] = np.where(df.index < '2020-06-01', 'train', 'test')"
   ]
  },
  {
   "cell_type": "code",
   "execution_count": 7,
   "metadata": {},
   "outputs": [],
   "source": [
    "def calc_stats(returns, weights, country, sample):\n",
    "    weighted_returns = returns.mul(weights.T.mean(axis=1).values, axis=1)\n",
    "    portfolio_returns = weighted_returns.sum(axis=1)\n",
    "\n",
    "    return {\n",
    "        'sample': sample,\n",
    "        'country': country,\n",
    "        'sharpe': portfolio_returns.sharpe(),\n",
    "        'cumreturn': (1 + portfolio_returns).prod(),\n",
    "        'win_rate': qs.stats.win_rate(portfolio_returns),\n",
    "        'avg_win': qs.stats.avg_win(portfolio_returns),\n",
    "        'consecutive_wins': qs.stats.consecutive_wins(portfolio_returns),\n",
    "        'consecutive_loss': qs.stats.consecutive_losses(portfolio_returns),\n",
    "        'max_drawdown': qs.stats.max_drawdown(portfolio_returns),\n",
    "        'expected_return': qs.stats.expected_return(portfolio_returns),\n",
    "        '1st_percentile_loss': qs.stats.outlier_loss_ratio(portfolio_returns),\n",
    "        '99st_percentile_win': qs.stats.outlier_win_ratio(portfolio_returns),\n",
    "        'profit_factor': qs.stats.profit_factor(portfolio_returns)\n",
    "    }, portfolio_returns\n"
   ]
  },
  {
   "cell_type": "code",
   "execution_count": 10,
   "metadata": {},
   "outputs": [
    {
     "name": "stdout",
     "output_type": "stream",
     "text": [
      "Austria skipped\n",
      "Botswana skipped\n",
      "Bulgaria skipped\n",
      "Colombia skipped\n",
      "Croatia skipped\n",
      "Egypt skipped\n",
      "Greece skipped\n",
      "20/58\r"
     ]
    },
    {
     "name": "stderr",
     "output_type": "stream",
     "text": [
      "/Users/tomatoparetogmail.com/ds/robust_variance/venv/lib/python3.8/site-packages/quantstats/stats.py:96: RuntimeWarning: invalid value encountered in double_scalars\n",
      "  return _np.product(1 + returns) ** (1 / len(returns)) - 1\n"
     ]
    },
    {
     "name": "stdout",
     "output_type": "stream",
     "text": [
      "Hungary skipped\n",
      "Kenya skipped\n",
      "Malaysia skipped\n",
      "Malta skipped\n",
      "Norway skipped\n",
      "Pakistan skipped\n",
      "Philippines skipped\n",
      "Poland skipped\n",
      "Singapore skipped\n",
      "Slovenia skipped\n",
      "Taiwan skipped\n",
      "Thailand skipped\n",
      "Tunisia skipped\n",
      "Ukraine skipped\n",
      "56/58\r"
     ]
    }
   ],
   "source": [
    "\n",
    "\n",
    "train = df[df['sample'] == 'train']\n",
    "test = df[df['sample'] == 'test']\n",
    "train.pop('sample')\n",
    "test.pop('sample')\n",
    "\n",
    "statistics = []\n",
    "portf_train_returns = {}\n",
    "portf_test_returns = {}\n",
    "\n",
    "for n, country in enumerate(unique_countries):\n",
    "\n",
    "    print(f'{n}/{len(unique_countries)}', end='\\r')\n",
    "    country_mask = countries == country\n",
    "    stocks = train.loc[:, country_mask]\n",
    "    buy_and_hold = stocks.pct_change().mean(axis=1)\n",
    "\n",
    "    mu = mean_historical_return(stocks).values\n",
    "    cov = sample_cov(stocks).values\n",
    "\n",
    "    if len(mu) < 4:\n",
    "        print(country, 'skipped')\n",
    "        continue\n",
    "\n",
    "    optimizers = [\n",
    "        # ConvexOptimizer()\n",
    "        NCOOptimizer(max_clusters=len(cov) // 2)\n",
    "    ]\n",
    "\n",
    "    estimator = PortfolioCreater(\n",
    "        min_var_portf=False,\n",
    "        optimizers=optimizers,\n",
    "        print_every=False,\n",
    "        bandwidth=1,\n",
    "        trials=10\n",
    "    )\n",
    "\n",
    "    results = estimator.estimate(mu, cov)\n",
    "    weights = pd.DataFrame(results).T\n",
    "\n",
    "    train_returns = train.loc[:, country_mask].pct_change()\n",
    "    test_returns = test.loc[:, country_mask].pct_change()\n",
    "\n",
    "    train_stats, train_returns = calc_stats(train_returns, weights, country, 'train')\n",
    "    test_stats, test_returns = calc_stats(test_returns, weights, country, 'test')\n",
    "\n",
    "    statistics.append(train_stats)\n",
    "    statistics.append(test_stats)\n",
    "    \n",
    "    portf_train_returns.update({country: train_returns})\n",
    "    portf_test_returns.update({country: test_returns})\n"
   ]
  },
  {
   "cell_type": "code",
   "execution_count": null,
   "metadata": {},
   "outputs": [],
   "source": []
  }
 ],
 "metadata": {
  "kernelspec": {
   "display_name": "Python 3.8.10 ('venv': venv)",
   "language": "python",
   "name": "python3"
  },
  "language_info": {
   "codemirror_mode": {
    "name": "ipython",
    "version": 3
   },
   "file_extension": ".py",
   "mimetype": "text/x-python",
   "name": "python",
   "nbconvert_exporter": "python",
   "pygments_lexer": "ipython3",
   "version": "3.8.10"
  },
  "orig_nbformat": 4,
  "vscode": {
   "interpreter": {
    "hash": "1dd05d6969e19bc3af89713ad39cb6436e349fc36bf3c749f1817465509c2eb7"
   }
  }
 },
 "nbformat": 4,
 "nbformat_minor": 2
}
